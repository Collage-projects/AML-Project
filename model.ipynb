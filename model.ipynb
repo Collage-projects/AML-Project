{
 "cells": [
  {
   "cell_type": "code",
   "execution_count": 1,
   "metadata": {},
   "outputs": [
    {
     "name": "stdout",
     "output_type": "stream",
     "text": [
      "Collecting opendatasets\n",
      "  Downloading opendatasets-0.1.22-py3-none-any.whl.metadata (9.2 kB)\n",
      "Requirement already satisfied: tqdm in c:\\users\\tejag\\anaconda3\\lib\\site-packages (from opendatasets) (4.66.5)\n",
      "Collecting kaggle (from opendatasets)\n",
      "  Downloading kaggle-1.7.4.1-py3-none-any.whl.metadata (16 kB)\n",
      "Requirement already satisfied: click in c:\\users\\tejag\\anaconda3\\lib\\site-packages (from opendatasets) (8.1.7)\n",
      "Requirement already satisfied: colorama in c:\\users\\tejag\\anaconda3\\lib\\site-packages (from click->opendatasets) (0.4.6)\n",
      "Requirement already satisfied: bleach in c:\\users\\tejag\\anaconda3\\lib\\site-packages (from kaggle->opendatasets) (4.1.0)\n",
      "Requirement already satisfied: certifi>=14.05.14 in c:\\users\\tejag\\anaconda3\\lib\\site-packages (from kaggle->opendatasets) (2025.1.31)\n",
      "Requirement already satisfied: charset-normalizer in c:\\users\\tejag\\anaconda3\\lib\\site-packages (from kaggle->opendatasets) (3.3.2)\n",
      "Requirement already satisfied: idna in c:\\users\\tejag\\anaconda3\\lib\\site-packages (from kaggle->opendatasets) (3.7)\n",
      "Requirement already satisfied: protobuf in c:\\users\\tejag\\anaconda3\\lib\\site-packages (from kaggle->opendatasets) (4.25.3)\n",
      "Requirement already satisfied: python-dateutil>=2.5.3 in c:\\users\\tejag\\anaconda3\\lib\\site-packages (from kaggle->opendatasets) (2.9.0.post0)\n",
      "Requirement already satisfied: python-slugify in c:\\users\\tejag\\anaconda3\\lib\\site-packages (from kaggle->opendatasets) (5.0.2)\n",
      "Requirement already satisfied: requests in c:\\users\\tejag\\anaconda3\\lib\\site-packages (from kaggle->opendatasets) (2.32.3)\n",
      "Requirement already satisfied: setuptools>=21.0.0 in c:\\users\\tejag\\anaconda3\\lib\\site-packages (from kaggle->opendatasets) (75.1.0)\n",
      "Requirement already satisfied: six>=1.10 in c:\\users\\tejag\\anaconda3\\lib\\site-packages (from kaggle->opendatasets) (1.16.0)\n",
      "Requirement already satisfied: text-unidecode in c:\\users\\tejag\\anaconda3\\lib\\site-packages (from kaggle->opendatasets) (1.3)\n",
      "Requirement already satisfied: urllib3>=1.15.1 in c:\\users\\tejag\\anaconda3\\lib\\site-packages (from kaggle->opendatasets) (2.2.3)\n",
      "Requirement already satisfied: webencodings in c:\\users\\tejag\\anaconda3\\lib\\site-packages (from kaggle->opendatasets) (0.5.1)\n",
      "Requirement already satisfied: packaging in c:\\users\\tejag\\anaconda3\\lib\\site-packages (from bleach->kaggle->opendatasets) (24.1)\n",
      "Downloading opendatasets-0.1.22-py3-none-any.whl (15 kB)\n",
      "Downloading kaggle-1.7.4.1-py3-none-any.whl (173 kB)\n",
      "Installing collected packages: kaggle, opendatasets\n",
      "Successfully installed kaggle-1.7.4.1 opendatasets-0.1.22\n"
     ]
    }
   ],
   "source": [
    "! pip install opendatasets\n"
   ]
  },
  {
   "cell_type": "code",
   "execution_count": 2,
   "metadata": {},
   "outputs": [
    {
     "name": "stdout",
     "output_type": "stream",
     "text": [
      "Please provide your Kaggle credentials to download this dataset. Learn more: http://bit.ly/kaggle-creds\n",
      "Your Kaggle username:Your Kaggle username:Your Kaggle username:Your Kaggle Key:Dataset URL: https://www.kaggle.com/datasets/ciplab/real-and-fake-face-detection\n"
     ]
    }
   ],
   "source": [
    "import opendatasets as od\n",
    "od.download(\"https://www.kaggle.com/datasets/ciplab/real-and-fake-face-detection\")"
   ]
  },
  {
   "cell_type": "code",
   "execution_count": null,
   "metadata": {},
   "outputs": [],
   "source": []
  }
 ],
 "metadata": {
  "kernelspec": {
   "display_name": "base",
   "language": "python",
   "name": "python3"
  },
  "language_info": {
   "codemirror_mode": {
    "name": "ipython",
    "version": 3
   },
   "file_extension": ".py",
   "mimetype": "text/x-python",
   "name": "python",
   "nbconvert_exporter": "python",
   "pygments_lexer": "ipython3",
   "version": "3.12.7"
  }
 },
 "nbformat": 4,
 "nbformat_minor": 2
}
