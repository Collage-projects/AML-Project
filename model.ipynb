{
 "cells": [
  {
   "cell_type": "code",
   "execution_count": 1,
   "metadata": {},
   "outputs": [
    {
     "name": "stdout",
     "output_type": "stream",
     "text": [
      "Collecting opendatasets\n",
      "  Downloading opendatasets-0.1.22-py3-none-any.whl.metadata (9.2 kB)\n",
      "Requirement already satisfied: tqdm in c:\\users\\tejag\\anaconda3\\lib\\site-packages (from opendatasets) (4.66.5)\n",
      "Collecting kaggle (from opendatasets)\n",
      "  Downloading kaggle-1.7.4.1-py3-none-any.whl.metadata (16 kB)\n",
      "Requirement already satisfied: click in c:\\users\\tejag\\anaconda3\\lib\\site-packages (from opendatasets) (8.1.7)\n",
      "Requirement already satisfied: colorama in c:\\users\\tejag\\anaconda3\\lib\\site-packages (from click->opendatasets) (0.4.6)\n",
      "Requirement already satisfied: bleach in c:\\users\\tejag\\anaconda3\\lib\\site-packages (from kaggle->opendatasets) (4.1.0)\n",
      "Requirement already satisfied: certifi>=14.05.14 in c:\\users\\tejag\\anaconda3\\lib\\site-packages (from kaggle->opendatasets) (2025.1.31)\n",
      "Requirement already satisfied: charset-normalizer in c:\\users\\tejag\\anaconda3\\lib\\site-packages (from kaggle->opendatasets) (3.3.2)\n",
      "Requirement already satisfied: idna in c:\\users\\tejag\\anaconda3\\lib\\site-packages (from kaggle->opendatasets) (3.7)\n",
      "Requirement already satisfied: protobuf in c:\\users\\tejag\\anaconda3\\lib\\site-packages (from kaggle->opendatasets) (4.25.3)\n",
      "Requirement already satisfied: python-dateutil>=2.5.3 in c:\\users\\tejag\\anaconda3\\lib\\site-packages (from kaggle->opendatasets) (2.9.0.post0)\n",
      "Requirement already satisfied: python-slugify in c:\\users\\tejag\\anaconda3\\lib\\site-packages (from kaggle->opendatasets) (5.0.2)\n",
      "Requirement already satisfied: requests in c:\\users\\tejag\\anaconda3\\lib\\site-packages (from kaggle->opendatasets) (2.32.3)\n",
      "Requirement already satisfied: setuptools>=21.0.0 in c:\\users\\tejag\\anaconda3\\lib\\site-packages (from kaggle->opendatasets) (75.1.0)\n",
      "Requirement already satisfied: six>=1.10 in c:\\users\\tejag\\anaconda3\\lib\\site-packages (from kaggle->opendatasets) (1.16.0)\n",
      "Requirement already satisfied: text-unidecode in c:\\users\\tejag\\anaconda3\\lib\\site-packages (from kaggle->opendatasets) (1.3)\n",
      "Requirement already satisfied: urllib3>=1.15.1 in c:\\users\\tejag\\anaconda3\\lib\\site-packages (from kaggle->opendatasets) (2.2.3)\n",
      "Requirement already satisfied: webencodings in c:\\users\\tejag\\anaconda3\\lib\\site-packages (from kaggle->opendatasets) (0.5.1)\n",
      "Requirement already satisfied: packaging in c:\\users\\tejag\\anaconda3\\lib\\site-packages (from bleach->kaggle->opendatasets) (24.1)\n",
      "Downloading opendatasets-0.1.22-py3-none-any.whl (15 kB)\n",
      "Downloading kaggle-1.7.4.1-py3-none-any.whl (173 kB)\n",
      "Installing collected packages: kaggle, opendatasets\n",
      "Successfully installed kaggle-1.7.4.1 opendatasets-0.1.22\n"
     ]
    }
   ],
   "source": [
    "! pip install opendatasets\n"
   ]
  },
  {
   "cell_type": "code",
   "execution_count": null,
   "metadata": {},
   "outputs": [
    {
     "name": "stdout",
     "output_type": "stream",
     "text": [
      "Please provide your Kaggle credentials to download this dataset. Learn more: http://bit.ly/kaggle-creds\n",
      "Your Kaggle username:Your Kaggle Key:Your Kaggle Key:Your Kaggle Key:Your Kaggle Key:Your Kaggle Key:Dataset URL: https://www.kaggle.com/datasets/manjilkarki/deepfake-and-real-images\n"
     ]
    }
   ],
   "source": [
    "import opendatasets as od\n",
    "od.download(\"https://www.kaggle.com/datasets/manjilkarki/deepfake-and-real-images\")"
   ]
  },
  {
   "cell_type": "code",
   "execution_count": null,
   "metadata": {},
   "outputs": [],
   "source": [
    "# Cell 1: Import necessary libraries\n",
    "import tensorflow as tf\n",
    "from tensorflow.keras.preprocessing.image import ImageDataGenerator\n",
    "import numpy as np\n",
    "import matplotlib.pyplot as plt\n",
    "import os\n",
    "import cv2\n",
    "from sklearn.metrics import confusion_matrix, classification_report\n",
    "import seaborn as sns"
   ]
  },
  {
   "cell_type": "code",
   "execution_count": null,
   "metadata": {},
   "outputs": [],
   "source": [
    "# Cell 2: Define image preprocessing functions\n",
    "def load_image(image_path):\n",
    "    \"\"\"Step 1: Load image - Read the image file\"\"\"\n",
    "    img = cv2.imread(image_path)\n",
    "    img = cv2.cvtColor(img, cv2.COLOR_BGR2RGB)  # Convert from BGR to RGB\n",
    "    return img\n",
    "\n",
    "# Cell 5: More preprocessing functions\n",
    "def resize_image(image):\n",
    "    \"\"\"Step 2: Resize - Convert to 224x224 pixels\"\"\"\n",
    "    return cv2.resize(image, (224, 224))\n",
    "\n",
    "def normalize_image(image):\n",
    "    \"\"\"Step 3: Normalize - Scale pixel values to 0-1\"\"\"\n",
    "    return image / 255.0\n",
    "\n",
    "def convert_to_tensor(image):\n",
    "    \"\"\"Step 4: Convert to Tensor - Prepare image for training\"\"\"\n",
    "    return tf.convert_to_tensor(image, dtype=tf.float32)\n",
    "\n",
    "# Cell 6: Full preprocessing pipeline\n",
    "# Full preprocessing pipeline for a single image\n",
    "def preprocess_image(image_path):\n",
    "    img = load_image(image_path)  # Step 1\n",
    "    img = resize_image(img)       # Step 2\n",
    "    img = normalize_image(img)    # Step 3\n",
    "    img_tensor = convert_to_tensor(img)  # Step 4\n",
    "    return img_tensor"
   ]
  },
  {
   "cell_type": "code",
   "execution_count": null,
   "metadata": {},
   "outputs": [],
   "source": [
    "# Define directory paths to match your structure\n",
    "data_root = \"/content/deepfake-and-real-images\"  # Adjust this if needed\n",
    "train_dir = os.path.join(data_root, \"Dataset/Train\")\n",
    "val_dir = os.path.join(data_root, \"Dataset/Validation\")\n",
    "test_dir = os.path.join(data_root, \"Dataset/Test\")\n",
    "\n",
    "# Verify directories exist\n",
    "print(f\"Train directory exists: {os.path.exists(train_dir)}\")\n",
    "print(f\"Validation directory exists: {os.path.exists(val_dir)}\")\n",
    "print(f\"Test directory exists: {os.path.exists(test_dir)}\")\n",
    "\n"
   ]
  },
  {
   "cell_type": "code",
   "execution_count": null,
   "metadata": {},
   "outputs": [],
   "source": [
    "# Create data generators incorporating the preprocessing steps\n",
    "train_datagen = ImageDataGenerator(\n",
    "    rescale=1./255,  # Step 3: Normalize\n",
    "    rotation_range=20,  # Step 5: Data Augmentation\n",
    "    width_shift_range=0.2,  # Step 5: Data Augmentation\n",
    "    height_shift_range=0.2,  # Step 5: Data Augmentation\n",
    "    shear_range=0.2,  # Step 5: Data Augmentation\n",
    "    zoom_range=0.2,  # Step 5: Data Augmentation\n",
    "    horizontal_flip=True  # Step 5: Data Augmentation\n",
    ")\n",
    "\n",
    "# Only normalize for validation and test (no augmentation needed)\n",
    "val_datagen = ImageDataGenerator(rescale=1./255)  # Step 3: Normalize\n",
    "test_datagen = ImageDataGenerator(rescale=1./255)  # Step 3: Normalize\n",
    "batch_size = 32"
   ]
  },
  {
   "cell_type": "code",
   "execution_count": null,
   "metadata": {},
   "outputs": [],
   "source": [
    "# Create generators\n",
    "batch_size = 32\n",
    "\n",
    "# Validation generator\n",
    "validation_generator = val_datagen.flow_from_directory(\n",
    "    val_dir,\n",
    "    target_size=(224, 224),  # Step 2: Resize\n",
    "    batch_size=batch_size,\n",
    "    class_mode='binary',\n",
    "    classes=['Real', 'Fake']  # Changed to match your capitalization\n",
    ")\n",
    "\n",
    "# Modify your training data generator to use a subset\n",
    "train_datagen = ImageDataGenerator(\n",
    "    rescale=1./255,\n",
    "    rotation_range=20,\n",
    "    width_shift_range=0.2,\n",
    "    height_shift_range=0.2,\n",
    "    shear_range=0.2,\n",
    "    zoom_range=0.2,\n",
    "    horizontal_flip=True,\n",
    "    validation_split=0.8  # This will use only 20% of your data\n",
    ")\n",
    "\n",
    "# Then in your train_generator\n",
    "train_generator = train_datagen.flow_from_directory(\n",
    "    train_dir,\n",
    "    target_size=(224, 224),\n",
    "    batch_size=batch_size,\n",
    "    class_mode='binary',\n",
    "    classes=['Real', 'Fake'],\n",
    "    subset='training'  # This will use the training subset\n",
    ")"
   ]
  },
  {
   "cell_type": "code",
   "execution_count": null,
   "metadata": {},
   "outputs": [],
   "source": [
    "plt.figure(figsize=(15, 8))\n",
    "sample_batch = next(train_generator)\n",
    "for i in range(min(9, batch_size)):\n",
    "    plt.subplot(3, 3, i+1)\n",
    "    plt.imshow(sample_batch[0][i])\n",
    "    plt.title(f\"Label: {'Real' if sample_batch[1][i] == 0 else 'Fake'}\")\n",
    "    plt.axis('off')\n",
    "plt.tight_layout()\n",
    "plt.show()\n"
   ]
  },
  {
   "cell_type": "code",
   "execution_count": null,
   "metadata": {},
   "outputs": [],
   "source": []
  },
  {
   "cell_type": "code",
   "execution_count": null,
   "metadata": {},
   "outputs": [],
   "source": []
  },
  {
   "cell_type": "code",
   "execution_count": null,
   "metadata": {},
   "outputs": [],
   "source": []
  },
  {
   "cell_type": "code",
   "execution_count": null,
   "metadata": {},
   "outputs": [],
   "source": []
  },
  {
   "cell_type": "code",
   "execution_count": null,
   "metadata": {},
   "outputs": [],
   "source": []
  },
  {
   "cell_type": "code",
   "execution_count": null,
   "metadata": {},
   "outputs": [],
   "source": []
  },
  {
   "cell_type": "code",
   "execution_count": null,
   "metadata": {},
   "outputs": [],
   "source": []
  }
 ],
 "metadata": {
  "kernelspec": {
   "display_name": "base",
   "language": "python",
   "name": "python3"
  },
  "language_info": {
   "codemirror_mode": {
    "name": "ipython",
    "version": 3
   },
   "file_extension": ".py",
   "mimetype": "text/x-python",
   "name": "python",
   "nbconvert_exporter": "python",
   "pygments_lexer": "ipython3",
   "version": "3.12.7"
  }
 },
 "nbformat": 4,
 "nbformat_minor": 2
}
